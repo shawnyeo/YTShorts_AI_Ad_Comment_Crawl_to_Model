{
 "cells": [
  {
   "cell_type": "code",
   "execution_count": 2,
   "id": "29ec5ba0",
   "metadata": {},
   "outputs": [
    {
     "name": "stdout",
     "output_type": "stream",
     "text": [
      "Defaulting to user installation because normal site-packages is not writeable\n",
      "Collecting selenium\n",
      "  Downloading selenium-4.34.0-py3-none-any.whl.metadata (7.5 kB)\n",
      "Collecting urllib3~=2.4.0 (from urllib3[socks]~=2.4.0->selenium)\n",
      "  Downloading urllib3-2.4.0-py3-none-any.whl.metadata (6.5 kB)\n",
      "Collecting trio~=0.30.0 (from selenium)\n",
      "  Downloading trio-0.30.0-py3-none-any.whl.metadata (8.5 kB)\n",
      "Collecting trio-websocket~=0.12.2 (from selenium)\n",
      "  Downloading trio_websocket-0.12.2-py3-none-any.whl.metadata (5.1 kB)\n",
      "Requirement already satisfied: certifi>=2025.4.26 in d:\\2anaconda\\lib\\site-packages (from selenium) (2025.4.26)\n",
      "Collecting typing_extensions~=4.14.0 (from selenium)\n",
      "  Downloading typing_extensions-4.14.1-py3-none-any.whl.metadata (3.0 kB)\n",
      "Requirement already satisfied: websocket-client~=1.8.0 in d:\\2anaconda\\lib\\site-packages (from selenium) (1.8.0)\n",
      "Collecting attrs>=23.2.0 (from trio~=0.30.0->selenium)\n",
      "  Downloading attrs-25.3.0-py3-none-any.whl.metadata (10 kB)\n",
      "Requirement already satisfied: sortedcontainers in d:\\2anaconda\\lib\\site-packages (from trio~=0.30.0->selenium) (2.4.0)\n",
      "Requirement already satisfied: idna in d:\\2anaconda\\lib\\site-packages (from trio~=0.30.0->selenium) (3.7)\n",
      "Collecting outcome (from trio~=0.30.0->selenium)\n",
      "  Downloading outcome-1.3.0.post0-py2.py3-none-any.whl.metadata (2.6 kB)\n",
      "Requirement already satisfied: sniffio>=1.3.0 in d:\\2anaconda\\lib\\site-packages (from trio~=0.30.0->selenium) (1.3.0)\n",
      "Requirement already satisfied: cffi>=1.14 in d:\\2anaconda\\lib\\site-packages (from trio~=0.30.0->selenium) (1.17.1)\n",
      "Collecting wsproto>=0.14 (from trio-websocket~=0.12.2->selenium)\n",
      "  Downloading wsproto-1.2.0-py3-none-any.whl.metadata (5.6 kB)\n",
      "Requirement already satisfied: pysocks!=1.5.7,<2.0,>=1.5.6 in d:\\2anaconda\\lib\\site-packages (from urllib3[socks]~=2.4.0->selenium) (1.7.1)\n",
      "Requirement already satisfied: pycparser in d:\\2anaconda\\lib\\site-packages (from cffi>=1.14->trio~=0.30.0->selenium) (2.21)\n",
      "Requirement already satisfied: h11<1,>=0.9.0 in d:\\2anaconda\\lib\\site-packages (from wsproto>=0.14->trio-websocket~=0.12.2->selenium) (0.14.0)\n",
      "Downloading selenium-4.34.0-py3-none-any.whl (9.4 MB)\n",
      "   ---------------------------------------- 0.0/9.4 MB ? eta -:--:--\n",
      "   ---------------------------------------  9.2/9.4 MB 56.8 MB/s eta 0:00:01\n",
      "   ---------------------------------------- 9.4/9.4 MB 48.6 MB/s eta 0:00:00\n",
      "Downloading trio-0.30.0-py3-none-any.whl (499 kB)\n",
      "Downloading trio_websocket-0.12.2-py3-none-any.whl (21 kB)\n",
      "Downloading typing_extensions-4.14.1-py3-none-any.whl (43 kB)\n",
      "Downloading urllib3-2.4.0-py3-none-any.whl (128 kB)\n",
      "Downloading attrs-25.3.0-py3-none-any.whl (63 kB)\n",
      "Downloading outcome-1.3.0.post0-py2.py3-none-any.whl (10 kB)\n",
      "Downloading wsproto-1.2.0-py3-none-any.whl (24 kB)\n",
      "Installing collected packages: wsproto, urllib3, typing_extensions, attrs, outcome, trio, trio-websocket, selenium\n",
      "Successfully installed attrs-25.3.0 outcome-1.3.0.post0 selenium-4.34.0 trio-0.30.0 trio-websocket-0.12.2 typing_extensions-4.14.1 urllib3-2.4.0 wsproto-1.2.0\n",
      "Note: you may need to restart the kernel to use updated packages.\n"
     ]
    }
   ],
   "source": [
    "pip install selenium"
   ]
  },
  {
   "cell_type": "code",
   "execution_count": 1,
   "id": "4f7496de",
   "metadata": {},
   "outputs": [],
   "source": [
    "from bs4 import BeautifulSoup"
   ]
  },
  {
   "cell_type": "code",
   "execution_count": 2,
   "id": "792f05c8",
   "metadata": {},
   "outputs": [],
   "source": [
    "from selenium import webdriver\n",
    "from selenium.webdriver.common.by import By\n",
    "import time"
   ]
  },
  {
   "cell_type": "code",
   "execution_count": 3,
   "id": "a3e5529a",
   "metadata": {},
   "outputs": [],
   "source": [
    "# 1️⃣ 크롬 드라이버 실행\n",
    "options = webdriver.ChromeOptions()\n",
    "options.add_argument('--start-maximized')\n",
    "driver = webdriver.Chrome(options=options)"
   ]
  },
  {
   "cell_type": "code",
   "execution_count": 10,
   "id": "63c1be36",
   "metadata": {},
   "outputs": [],
   "source": [
    "# 2️⃣ 쇼츠 URL 열기\n",
    "url = \"https://www.youtube.com/shorts/PFiyCYfNn80\"\n",
    "driver.get(url)"
   ]
  },
  {
   "cell_type": "code",
   "execution_count": 11,
   "id": "c7a35726",
   "metadata": {},
   "outputs": [],
   "source": [
    "time.sleep(5)  # 페이지 초기 로딩 대기"
   ]
  },
  {
   "cell_type": "code",
   "execution_count": 12,
   "id": "7709c660",
   "metadata": {},
   "outputs": [],
   "source": [
    "comments_button_container = driver.find_element(By.ID, \"comments-button\")"
   ]
  },
  {
   "cell_type": "code",
   "execution_count": 13,
   "id": "301ff202",
   "metadata": {},
   "outputs": [],
   "source": [
    "button = comments_button_container.find_element(By.TAG_NAME, \"button\")\n",
    "button.click()"
   ]
  },
  {
   "cell_type": "code",
   "execution_count": 8,
   "id": "8e7c3bb5",
   "metadata": {},
   "outputs": [
    {
     "name": "stdout",
     "output_type": "stream",
     "text": [
      "No new comments found in this round.\n",
      "Continuation detected, keep scrolling.\n",
      "Author: \n",
      "Content: 2탄으로 이어집니다! 관련 영상 참고!!\n",
      "Author: @슈퍼파워-g5h\n",
      "Content: 같이.안사는 우리도 웃긴데...쟤들은 얼마나 웃길까 ㅋㅋㅋ\n",
      "Author: @minmin-zl5yc\n",
      "Content: 이 사람이 제일 웃겨 특히 인도 강돜ㅋㅋㅋㅋㅋㅋㅋ 자주 좀 올려주세요\n",
      "Author: @김태용-j9x\n",
      "Content: 이 사람 성대모사 진짜 끼깔나네 ㅋㅋㅋ\n",
      "Author: @syooni4465\n",
      "Content: 아 이분 진짜 성대모사나 소리표현이 수준급이예요 옥동자 저리가라 수준\n",
      "그리고 코미디 스타일도 더럽지 않아서 부담없이 보기도 좋고요\n",
      "Author: @booooostaaaaa-h5j\n",
      "Content: 이름 앞뒤로 볼드체인거 킹받네 ㅋㅋㅋㅋㅋㅋㅋㅋㅋㅋ 여긴 자주이러더라\n",
      "Author: @NotionLab\n",
      "Content: 아니 저 골반무브먼트는 또 왜 똑같은데 ㅋㅋㅋㅋㅋㅋㅋㅋㅋㅋㅋㅋㅋㅋㅋㅋㅋㅋㅋ\n",
      "Author: @motonia7452\n",
      "Content: ㅋㅋㅋㅋ 올려주셔서 감사합니다 ㅋㅋㅋ\n",
      "Author: @choroc12345\n",
      "Content: 모던패밀리 그 아들이 자란건줄..\n",
      "Author: @ppappagi1234\n",
      "Content: ㅋㅋㅋ난 스탠드코미디? 별로 안좋아하는데 저분은 진짜 잼나게 잘살린다 ㅋㅋ 전세계 어디에서도 통할듯 ㅋㅋㅋㅋ\n",
      "Author: @WaffleGrante\n",
      "Content: 제휴사 쿠팡이 \"목화솜\" 디퓨저 파는거 보고 자지러짐 오갓\n",
      "Author: @greg7987\n",
      "Content: 왜 이름에서 게이랑 야스만 볼드체인 거죠?ㅋㅋㅋㅋㅋ\n",
      "Author: @jonghoonpark7295\n",
      "Content: 지금이 내일이야 ㅋㅋ\n",
      "Author: @jh-jt3bm\n",
      "Content: ㅋㅋㅋ 잘한다 잘해 찰지다\n",
      "Author: @lamoking647\n",
      "Content: 도대체 왜 아무도 사람이름에 게이 야스를 강조하는것을 말하지 않는가.\n",
      "Author: @andykim9350\n",
      "Content: 플러피 —- ㅋㅋ 이거 한 20년전 영상인데 젊을때 이런 성대묘사/ 효과음 진짜 레전드였음. 40대후반인 지금도 활동 열심히 하고있음.\n",
      "Author: @SamuelSmith1221\n",
      "Content: 흉내 너무 잘낸다..\n",
      "Author: @Hesed_Rain\n",
      "Content: 요즘 이분한테 꽂혀가지고 ㅋㅋㅋ  많이 보고싶은데  찾기 힘드네요 영상 감사해요~\n",
      "Author: @깨부량\n",
      "Content: 흑인이 주제인 쇼츠에 목화솜 디퓨저는 너무 한거 아니냐ㅋㅋㅋㅋㅋㅋㅋㅋ\n",
      "Author: @소설러슈크림\n",
      "Content: 미국은 짧게 여러군데 가봤는데 카운터에 흑인 여성 앉아있으면 딴데 갈까하는 생각부터 듬 ㅋ ㅋ 그리고  정확히 고정관념 대로 행동함\n",
      "Continuation detected, keep scrolling.\n",
      "No new comments found in this round.\n",
      "Continuation detected, keep scrolling.\n",
      "No new comments found in this round.\n",
      "Continuation detected, keep scrolling.\n",
      "No new comments found in this round.\n",
      "Continuation detected, keep scrolling.\n",
      "No new comments found in this round.\n"
     ]
    },
    {
     "ename": "KeyboardInterrupt",
     "evalue": "",
     "output_type": "error",
     "traceback": [
      "\u001b[1;31m---------------------------------------------------------------------------\u001b[0m",
      "\u001b[1;31mKeyboardInterrupt\u001b[0m                         Traceback (most recent call last)",
      "Cell \u001b[1;32mIn[8], line 37\u001b[0m\n\u001b[0;32m     34\u001b[0m driver\u001b[38;5;241m.\u001b[39mexecute_script(\u001b[38;5;124m\"\u001b[39m\u001b[38;5;124mwindow.scrollBy(0, 500);\u001b[39m\u001b[38;5;124m\"\u001b[39m)\n\u001b[0;32m     36\u001b[0m \u001b[38;5;66;03m# 4️⃣ 랜덤 딜레이로 자연스러운 행동\u001b[39;00m\n\u001b[1;32m---> 37\u001b[0m time\u001b[38;5;241m.\u001b[39msleep(random\u001b[38;5;241m.\u001b[39muniform(\u001b[38;5;241m1.5\u001b[39m, \u001b[38;5;241m3.0\u001b[39m))\n\u001b[0;32m     39\u001b[0m \u001b[38;5;66;03m# 5️⃣ 종료 조건 감지\u001b[39;00m\n\u001b[0;32m     40\u001b[0m \u001b[38;5;28;01mtry\u001b[39;00m:\n",
      "\u001b[1;31mKeyboardInterrupt\u001b[0m: "
     ]
    }
   ],
   "source": [
    "import time\n",
    "import random\n",
    "\n",
    "# 여기에 이미 읽은 댓글 ID나 작성자+본문을 기억할 세트\n",
    "seen_comments = set()\n",
    "\n",
    "while True:\n",
    "    # 1️⃣ 현재까지 렌더된 댓글들 가져오기\n",
    "    threads = driver.find_elements(By.TAG_NAME, 'ytd-comment-thread-renderer')\n",
    "    \n",
    "    new_found = 0\n",
    "    \n",
    "    for thread in threads:\n",
    "        try:\n",
    "            author = thread.find_element(By.ID, 'author-text').text\n",
    "            content = thread.find_element(By.ID, 'content-text').text\n",
    "            unique_key = (author, content)\n",
    "\n",
    "            if unique_key not in seen_comments:\n",
    "                seen_comments.add(unique_key)\n",
    "                print(f\"Author: {author}\")\n",
    "                print(f\"Content: {content}\")\n",
    "                new_found += 1\n",
    "\n",
    "        except Exception as e:\n",
    "            print(\"Error:\", e)\n",
    "            continue\n",
    "\n",
    "    # 2️⃣ 새 댓글이 없으면 → 끝일 수도 있음\n",
    "    if new_found == 0:\n",
    "        print(\"No new comments found in this round.\")\n",
    "\n",
    "    # 3️⃣ 스크롤 내려서 더 로드 유도\n",
    "    driver.execute_script(\"window.scrollBy(0, 500);\")\n",
    "    \n",
    "    # 4️⃣ 랜덤 딜레이로 자연스러운 행동\n",
    "    time.sleep(random.uniform(1.5, 3.0))\n",
    "\n",
    "    # 5️⃣ 종료 조건 감지\n",
    "    try:\n",
    "        cont = driver.find_element(By.TAG_NAME, 'ytd-continuation-item-renderer')\n",
    "        print(\"Continuation detected, keep scrolling.\")\n",
    "    except:\n",
    "        print(\"No continuation found, end of comments.\")\n",
    "        break\n"
   ]
  },
  {
   "cell_type": "code",
   "execution_count": 9,
   "id": "cb9b93dd",
   "metadata": {},
   "outputs": [
    {
     "name": "stdout",
     "output_type": "stream",
     "text": [
      "Scrolling ytd-engagement-panel-section-list-renderer\n",
      "Scrolling ytd-section-list-renderer\n",
      "Scrolling ytd-comments\n",
      "Scrolling #contents\n"
     ]
    }
   ],
   "source": [
    "# 후보 리스트\n",
    "scroll_selectors = [\n",
    "    \"ytd-engagement-panel-section-list-renderer\",\n",
    "    \"ytd-section-list-renderer\",\n",
    "    \"ytd-comments\",\n",
    "    \"#contents\",\n",
    "    \n",
    "]\n",
    "\n",
    "for sel in scroll_selectors:\n",
    "    try:\n",
    "        el = driver.find_element(By.CSS_SELECTOR, sel)\n",
    "        print(f\"Scrolling {sel}\")\n",
    "        driver.execute_script(\"arguments[0].scrollBy(0, 500);\", el)\n",
    "        time.sleep(2)\n",
    "    except Exception as e:\n",
    "        print(f\"Failed for {sel}: {e}\")\n"
   ]
  },
  {
   "cell_type": "code",
   "execution_count": 14,
   "id": "240e958a",
   "metadata": {},
   "outputs": [
    {
     "name": "stdout",
     "output_type": "stream",
     "text": [
      "Candidate: <ytd-section-list-renderer class=\"style-scope ytd-engagement-panel-section-list-renderer\" engagement-panel=\"\" panel-target-id=\"engagement-panel-comments-section\" panel-content-visible=\"\"><!--css-build overflow-y: hidden\n",
      "Candidate: <div id=\"content\" class=\"style-scope ytd-engagement-panel-section-list-renderer\"><ytd-section-list-renderer class=\"style-scope ytd-engagement-panel-section-list-renderer\" engagement-panel=\"\" panel-tar overflow-y: hidden\n",
      "Candidate: <ytd-engagement-panel-section-list-renderer class=\"style-scope ytd-shorts\" modern-panels=\"\" enable-anchored-panel=\"\" is-watch-while-panel=\"\" shorts-panel=\"\" target-id=\"engagement-panel-comments-sectio overflow-y: hidden\n",
      "Candidate: <div id=\"anchored-panel\" class=\"anchored-panel style-scope ytd-shorts\"><ytd-engagement-panel-section-list-renderer class=\"style-scope ytd-shorts\" modern-panels=\"\" enable-anchored-panel=\"\" is-watch-whi overflow-y: visible\n",
      "Candidate: <div id=\"shorts-panel-container\" class=\"style-scope ytd-shorts\">\n",
      "  <div id=\"anchored-panel-scrim\" class=\"style-scope ytd-shorts\"></div>\n",
      "  <div id=\"anchored-panel\" class=\"anchored-panel style-scope ytd overflow-y: hidden\n",
      "Candidate: <ytd-shorts class=\"style-scope ytd-page-manager\" enable-previous-continuation=\"\" is-dark=\"\" is-up-arrow-hidden=\"\" role=\"main\" guide-persistent-and-visible=\"\" is-persistent-panel-active=\"\" anchored-pan overflow-y: visible\n",
      "Candidate: <ytd-page-manager id=\"page-manager\" class=\"style-scope ytd-app\"><!--css-build:shady--><!--css_build_scope:ytd-page-manager--><!--css_build_styles:video.youtube.src.web.polymer.shared.ui.styles.yt_base overflow-y: visible\n",
      "Candidate: <div id=\"content\" class=\"style-scope ytd-app\">\n",
      "  <div id=\"frosted-glass\" class=\"none style-scope ytd-app style-scope ytd-app\"></div>\n",
      "  <div id=\"masthead-container\" class=\"style-scope ytd-app\">\n",
      "    <yt overflow-y: visible\n",
      "Candidate: <ytd-app darker-dark-theme=\"\" frosted-glass-exp=\"\" is-shorts-page=\"\" guide-persistent-and-visible=\"\"><!--css-build:shady--><!--css_build_scope:ytd-app--><!--css_build_styles:video.youtube.src.web.poly overflow-y: visible\n",
      "Candidate: <body dir=\"ltr\" rounded-container=\"\" no-y-overflow=\"\"><div id=\"watch7-content\" class=\"watch-main-col\" itemscope=\"\" itemid=\"https://www.youtube.com/shorts/PFiyCYfNn80\" itemtype=\"http://schema.org/Video overflow-y: hidden\n",
      "Candidate: <html style=\"font-size: 10px;font-family: Roboto, Arial, sans-serif;\" lang=\"ko-KR\" darker-dark-theme=\"\" darker-dark-theme-deprecate=\"\" dark=\"\" system-icons=\"\" typography=\"\" typography-spacing=\"\"><head overflow-y: visible\n"
     ]
    },
    {
     "ename": "InvalidSelectorException",
     "evalue": "Message: invalid selector: The result of the xpath expression \"..\" is: [object HTMLDocument]. It should be an element.\n  (Session info: chrome=138.0.7204.97); For documentation on this error, please visit: https://www.selenium.dev/documentation/webdriver/troubleshooting/errors#invalidselectorexception\nStacktrace:\n\tGetHandleVerifier [0x0x7ff72e7c6f75+76917]\n\tGetHandleVerifier [0x0x7ff72e7c6fd0+77008]\n\t(No symbol) [0x0x7ff72e579dea]\n\t(No symbol) [0x0x7ff72e581789]\n\t(No symbol) [0x0x7ff72e58482c]\n\t(No symbol) [0x0x7ff72e5848ff]\n\t(No symbol) [0x0x7ff72e5cfb07]\n\t(No symbol) [0x0x7ff72e5d050c]\n\t(No symbol) [0x0x7ff72e5c2d4c]\n\t(No symbol) [0x0x7ff72e5f84af]\n\t(No symbol) [0x0x7ff72e5c2c16]\n\t(No symbol) [0x0x7ff72e5f8680]\n\t(No symbol) [0x0x7ff72e62065c]\n\t(No symbol) [0x0x7ff72e5f8243]\n\t(No symbol) [0x0x7ff72e5c1431]\n\t(No symbol) [0x0x7ff72e5c21c3]\n\tGetHandleVerifier [0x0x7ff72ea9d2ad+3051437]\n\tGetHandleVerifier [0x0x7ff72ea97903+3028483]\n\tGetHandleVerifier [0x0x7ff72eab589d+3151261]\n\tGetHandleVerifier [0x0x7ff72e7e183e+185662]\n\tGetHandleVerifier [0x0x7ff72e7e96ff+218111]\n\tGetHandleVerifier [0x0x7ff72e7cfaf4+112628]\n\tGetHandleVerifier [0x0x7ff72e7cfca9+113065]\n\tGetHandleVerifier [0x0x7ff72e7b6c78+10616]\n\tBaseThreadInitThunk [0x0x7fff2cbde8d7+23]\n\tRtlUserThreadStart [0x0x7fff2dc3c34c+44]\n",
     "output_type": "error",
     "traceback": [
      "\u001b[1;31m---------------------------------------------------------------------------\u001b[0m",
      "\u001b[1;31mInvalidSelectorException\u001b[0m                  Traceback (most recent call last)",
      "Cell \u001b[1;32mIn[14], line 5\u001b[0m\n\u001b[0;32m      2\u001b[0m parent \u001b[38;5;241m=\u001b[39m el\n\u001b[0;32m      4\u001b[0m \u001b[38;5;28;01mwhile\u001b[39;00m \u001b[38;5;28;01mTrue\u001b[39;00m:\n\u001b[1;32m----> 5\u001b[0m     parent \u001b[38;5;241m=\u001b[39m parent\u001b[38;5;241m.\u001b[39mfind_element(By\u001b[38;5;241m.\u001b[39mXPATH, \u001b[38;5;124m\"\u001b[39m\u001b[38;5;124m..\u001b[39m\u001b[38;5;124m\"\u001b[39m)\n\u001b[0;32m      6\u001b[0m     overflow \u001b[38;5;241m=\u001b[39m driver\u001b[38;5;241m.\u001b[39mexecute_script(\n\u001b[0;32m      7\u001b[0m         \u001b[38;5;124m\"\u001b[39m\u001b[38;5;124mreturn window.getComputedStyle(arguments[0]).overflowY;\u001b[39m\u001b[38;5;124m\"\u001b[39m, parent\n\u001b[0;32m      8\u001b[0m     )\n\u001b[0;32m      9\u001b[0m     \u001b[38;5;28mprint\u001b[39m(\u001b[38;5;124m\"\u001b[39m\u001b[38;5;124mCandidate:\u001b[39m\u001b[38;5;124m\"\u001b[39m, parent\u001b[38;5;241m.\u001b[39mget_attribute(\u001b[38;5;124m'\u001b[39m\u001b[38;5;124mouterHTML\u001b[39m\u001b[38;5;124m'\u001b[39m)[:\u001b[38;5;241m200\u001b[39m], \u001b[38;5;124m\"\u001b[39m\u001b[38;5;124moverflow-y:\u001b[39m\u001b[38;5;124m\"\u001b[39m, overflow)\n",
      "File \u001b[1;32m~\\AppData\\Roaming\\Python\\Python312\\site-packages\\selenium\\webdriver\\remote\\webelement.py:602\u001b[0m, in \u001b[0;36mWebElement.find_element\u001b[1;34m(self, by, value)\u001b[0m\n\u001b[0;32m    576\u001b[0m \u001b[38;5;250m\u001b[39m\u001b[38;5;124;03m\"\"\"Find an element given a By strategy and locator.\u001b[39;00m\n\u001b[0;32m    577\u001b[0m \n\u001b[0;32m    578\u001b[0m \u001b[38;5;124;03mParameters:\u001b[39;00m\n\u001b[1;32m   (...)\u001b[0m\n\u001b[0;32m    599\u001b[0m \u001b[38;5;124;03m    The first matching `WebElement` found on the page.\u001b[39;00m\n\u001b[0;32m    600\u001b[0m \u001b[38;5;124;03m\"\"\"\u001b[39;00m\n\u001b[0;32m    601\u001b[0m by, value \u001b[38;5;241m=\u001b[39m \u001b[38;5;28mself\u001b[39m\u001b[38;5;241m.\u001b[39m_parent\u001b[38;5;241m.\u001b[39mlocator_converter\u001b[38;5;241m.\u001b[39mconvert(by, value)\n\u001b[1;32m--> 602\u001b[0m \u001b[38;5;28;01mreturn\u001b[39;00m \u001b[38;5;28mself\u001b[39m\u001b[38;5;241m.\u001b[39m_execute(Command\u001b[38;5;241m.\u001b[39mFIND_CHILD_ELEMENT, {\u001b[38;5;124m\"\u001b[39m\u001b[38;5;124musing\u001b[39m\u001b[38;5;124m\"\u001b[39m: by, \u001b[38;5;124m\"\u001b[39m\u001b[38;5;124mvalue\u001b[39m\u001b[38;5;124m\"\u001b[39m: value})[\u001b[38;5;124m\"\u001b[39m\u001b[38;5;124mvalue\u001b[39m\u001b[38;5;124m\"\u001b[39m]\n",
      "File \u001b[1;32m~\\AppData\\Roaming\\Python\\Python312\\site-packages\\selenium\\webdriver\\remote\\webelement.py:573\u001b[0m, in \u001b[0;36mWebElement._execute\u001b[1;34m(self, command, params)\u001b[0m\n\u001b[0;32m    571\u001b[0m     params \u001b[38;5;241m=\u001b[39m {}\n\u001b[0;32m    572\u001b[0m params[\u001b[38;5;124m\"\u001b[39m\u001b[38;5;124mid\u001b[39m\u001b[38;5;124m\"\u001b[39m] \u001b[38;5;241m=\u001b[39m \u001b[38;5;28mself\u001b[39m\u001b[38;5;241m.\u001b[39m_id\n\u001b[1;32m--> 573\u001b[0m \u001b[38;5;28;01mreturn\u001b[39;00m \u001b[38;5;28mself\u001b[39m\u001b[38;5;241m.\u001b[39m_parent\u001b[38;5;241m.\u001b[39mexecute(command, params)\n",
      "File \u001b[1;32m~\\AppData\\Roaming\\Python\\Python312\\site-packages\\selenium\\webdriver\\remote\\webdriver.py:454\u001b[0m, in \u001b[0;36mWebDriver.execute\u001b[1;34m(self, driver_command, params)\u001b[0m\n\u001b[0;32m    451\u001b[0m response \u001b[38;5;241m=\u001b[39m cast(RemoteConnection, \u001b[38;5;28mself\u001b[39m\u001b[38;5;241m.\u001b[39mcommand_executor)\u001b[38;5;241m.\u001b[39mexecute(driver_command, params)\n\u001b[0;32m    453\u001b[0m \u001b[38;5;28;01mif\u001b[39;00m response:\n\u001b[1;32m--> 454\u001b[0m     \u001b[38;5;28mself\u001b[39m\u001b[38;5;241m.\u001b[39merror_handler\u001b[38;5;241m.\u001b[39mcheck_response(response)\n\u001b[0;32m    455\u001b[0m     response[\u001b[38;5;124m\"\u001b[39m\u001b[38;5;124mvalue\u001b[39m\u001b[38;5;124m\"\u001b[39m] \u001b[38;5;241m=\u001b[39m \u001b[38;5;28mself\u001b[39m\u001b[38;5;241m.\u001b[39m_unwrap_value(response\u001b[38;5;241m.\u001b[39mget(\u001b[38;5;124m\"\u001b[39m\u001b[38;5;124mvalue\u001b[39m\u001b[38;5;124m\"\u001b[39m, \u001b[38;5;28;01mNone\u001b[39;00m))\n\u001b[0;32m    456\u001b[0m     \u001b[38;5;28;01mreturn\u001b[39;00m response\n",
      "File \u001b[1;32m~\\AppData\\Roaming\\Python\\Python312\\site-packages\\selenium\\webdriver\\remote\\errorhandler.py:232\u001b[0m, in \u001b[0;36mErrorHandler.check_response\u001b[1;34m(self, response)\u001b[0m\n\u001b[0;32m    230\u001b[0m         alert_text \u001b[38;5;241m=\u001b[39m value[\u001b[38;5;124m\"\u001b[39m\u001b[38;5;124malert\u001b[39m\u001b[38;5;124m\"\u001b[39m]\u001b[38;5;241m.\u001b[39mget(\u001b[38;5;124m\"\u001b[39m\u001b[38;5;124mtext\u001b[39m\u001b[38;5;124m\"\u001b[39m)\n\u001b[0;32m    231\u001b[0m     \u001b[38;5;28;01mraise\u001b[39;00m exception_class(message, screen, stacktrace, alert_text)  \u001b[38;5;66;03m# type: ignore[call-arg]  # mypy is not smart enough here\u001b[39;00m\n\u001b[1;32m--> 232\u001b[0m \u001b[38;5;28;01mraise\u001b[39;00m exception_class(message, screen, stacktrace)\n",
      "\u001b[1;31mInvalidSelectorException\u001b[0m: Message: invalid selector: The result of the xpath expression \"..\" is: [object HTMLDocument]. It should be an element.\n  (Session info: chrome=138.0.7204.97); For documentation on this error, please visit: https://www.selenium.dev/documentation/webdriver/troubleshooting/errors#invalidselectorexception\nStacktrace:\n\tGetHandleVerifier [0x0x7ff72e7c6f75+76917]\n\tGetHandleVerifier [0x0x7ff72e7c6fd0+77008]\n\t(No symbol) [0x0x7ff72e579dea]\n\t(No symbol) [0x0x7ff72e581789]\n\t(No symbol) [0x0x7ff72e58482c]\n\t(No symbol) [0x0x7ff72e5848ff]\n\t(No symbol) [0x0x7ff72e5cfb07]\n\t(No symbol) [0x0x7ff72e5d050c]\n\t(No symbol) [0x0x7ff72e5c2d4c]\n\t(No symbol) [0x0x7ff72e5f84af]\n\t(No symbol) [0x0x7ff72e5c2c16]\n\t(No symbol) [0x0x7ff72e5f8680]\n\t(No symbol) [0x0x7ff72e62065c]\n\t(No symbol) [0x0x7ff72e5f8243]\n\t(No symbol) [0x0x7ff72e5c1431]\n\t(No symbol) [0x0x7ff72e5c21c3]\n\tGetHandleVerifier [0x0x7ff72ea9d2ad+3051437]\n\tGetHandleVerifier [0x0x7ff72ea97903+3028483]\n\tGetHandleVerifier [0x0x7ff72eab589d+3151261]\n\tGetHandleVerifier [0x0x7ff72e7e183e+185662]\n\tGetHandleVerifier [0x0x7ff72e7e96ff+218111]\n\tGetHandleVerifier [0x0x7ff72e7cfaf4+112628]\n\tGetHandleVerifier [0x0x7ff72e7cfca9+113065]\n\tGetHandleVerifier [0x0x7ff72e7b6c78+10616]\n\tBaseThreadInitThunk [0x0x7fff2cbde8d7+23]\n\tRtlUserThreadStart [0x0x7fff2dc3c34c+44]\n"
     ]
    }
   ],
   "source": [
    "el = driver.find_element(By.CSS_SELECTOR, \"#contents\")\n",
    "parent = el\n",
    "\n",
    "while True:\n",
    "    parent = parent.find_element(By.XPATH, \"..\")\n",
    "    overflow = driver.execute_script(\n",
    "        \"return window.getComputedStyle(arguments[0]).overflowY;\", parent\n",
    "    )\n",
    "    print(\"Candidate:\", parent.get_attribute('outerHTML')[:200], \"overflow-y:\", overflow)\n",
    "    if overflow in [\"auto\", \"scroll\"]:\n",
    "        print(\"✅ Found scrollable container!\")\n",
    "        break\n"
   ]
  },
  {
   "cell_type": "code",
   "execution_count": 76,
   "id": "476a6061",
   "metadata": {},
   "outputs": [],
   "source": [
    "comment_threads = driver.find_elements(By.TAG_NAME, \"ytd-comment-thread-renderer\")"
   ]
  },
  {
   "cell_type": "code",
   "execution_count": 77,
   "id": "4fa6de26",
   "metadata": {},
   "outputs": [
    {
     "name": "stdout",
     "output_type": "stream",
     "text": [
      " 직전 영상 '인종별 제스쳐 특징'과 약간 이어집니다! 안보신 분은 관련 영상 눌러서 보세요ㅇ후,,,\n",
      "@김태용-j9x 이 사람 성대모사 진짜 끼깔나네 ㅋㅋㅋ\n",
      "@minmin-zl5yc 이 사람이 제일 웃겨 특히 인도 강돜ㅋㅋㅋㅋㅋㅋㅋ 자주 좀 올려주세요\n",
      "@슈퍼파워-g5h 같이.안사는 우리도 웃긴데...쟤들은 얼마나 웃길까 ㅋㅋㅋ\n",
      "@NotionLab 아니 저 골반무브먼트는 또 왜 똑같은데 ㅋㅋㅋㅋㅋㅋㅋㅋㅋㅋㅋㅋㅋㅋㅋㅋㅋㅋㅋ\n",
      "@greg7987 왜 이름에서 게이랑 야스만 볼드체인 거죠?ㅋㅋㅋㅋㅋ\n",
      "@syooni4465 아 이분 진짜 성대모사나 소리표현이 수준급이예요 옥동자 저리가라 수준\n",
      "그리고 코미디 스타일도 더럽지 않아서 부담없이 보기도 좋고요\n",
      "@motonia7452 ㅋㅋㅋㅋ 올려주셔서 감사합니다 ㅋㅋㅋ\n",
      "@WafufuGrante 제휴사 쿠팡이 \"목화솜\" 디퓨저 파는거 보고 자지러짐 오갓\n",
      "@jonghoonpark7295 지금이 내일이야 ㅋㅋ\n",
      "@손정호-t4d 이양반 인도말투가 개쩜.\n",
      "@booooostaaaaa-h5j 이름 앞뒤로 볼드체인거 킹받네 ㅋㅋㅋㅋㅋㅋㅋㅋㅋㅋ 여긴 자주이러더라\n",
      "@SamuelSmith1221 흉내 너무 잘낸다..\n",
      "@깨부량 흑인이 주제인 쇼츠에 목화솜 디퓨저는 너무 한거 아니냐ㅋㅋㅋㅋㅋㅋㅋㅋ\n",
      "@soneunho ㅋㅋㅋㅋ 이제 이사람 쇼츠 알고리즘 뜨면 보기도전에\n",
      "\n",
      "좋아요부터 박는다 ㅋㅋㅋ\n",
      "@jh-jt3bm ㅋㅋㅋ 잘한다 잘해 찰지다\n",
      "@이우성-i3o 진짜 개 웃김 ㅋㅋㅋㅋ \n",
      "@rooda3751 창자빠져서 개늦게 처옴ㅋㅋㅋㅋㅋㅋㅋㅋ 돌았낰ㅋㅋㅋㅋㅋㅋㅋㅋㅋㅋㅋㅋㅋㅋㅋㅋㅋㅋㅋ\n",
      "@toffeelatte5060 완전! 젤~ 잘함️!\n",
      "@ppappagi1234 ㅋㅋㅋ난 스탠드코미디? 별로 안좋아하는데 저분은 진짜 잼나게 잘살린다 ㅋㅋ 전세계 어디에서도 통할듯 ㅋㅋㅋㅋ\n"
     ]
    }
   ],
   "source": [
    "for thread in comment_threads:\n",
    "    # 상위 댓글 파싱\n",
    "    main_comment = thread.find_element(By.TAG_NAME, 'ytd-comment-view-model')\n",
    "    author = main_comment.find_element(By.ID, 'author-text').text\n",
    "    content = main_comment.find_element(By.ID, 'content-text').text\n",
    "    print(author, content)\n",
    "\n",
    "    # 대댓글 버튼 반복 클릭\n",
    "    while True:\n",
    "        try:\n",
    "            show_replies = thread.find_element(By.ID, 'more-replies')\n",
    "            driver.execute_script(\"arguments[0].scrollIntoView(true);\", show_replies)\n",
    "            show_replies.click()\n",
    "            time.sleep(random.uniform(1.5, 3.0))\n",
    "        except:\n",
    "            break\n",
    "\n",
    "    # 대댓글 전부 로딩 후 파싱\n",
    "    try:\n",
    "        replies_container = thread.find_element(By.TAG_NAME, 'ytd-comment-replies-renderer')\n",
    "        replies = replies_container.find_elements(By.TAG_NAME, 'ytd-comment-view-model')\n",
    "        for reply in replies:\n",
    "            reply_author = reply.find_element(By.ID, 'author-text').text\n",
    "            reply_content = reply.find_element(By.ID, 'content-text').text\n",
    "            print('→', reply_author, reply_content)\n",
    "    except:\n",
    "        pass\n"
   ]
  },
  {
   "cell_type": "code",
   "execution_count": 71,
   "id": "66c26b40",
   "metadata": {},
   "outputs": [],
   "source": [
    "try:\n",
    "    replies_container = thread.find_element(By.TAG_NAME, 'ytd-comment-replies-renderer')\n",
    "    replies = replies_container.find_elements(By.TAG_NAME, 'ytd-comment-view-model')\n",
    "    for reply in replies:\n",
    "        reply_author = reply.find_element(By.ID, 'author-text').text\n",
    "        reply_content = reply.find_element(By.ID, 'content-text').text\n",
    "        print('→', reply_author, reply_content)\n",
    "except:\n",
    "    pass"
   ]
  },
  {
   "cell_type": "code",
   "execution_count": 11,
   "id": "fbcb1af2",
   "metadata": {},
   "outputs": [],
   "source": [
    "button = driver.find_element(By.XPATH, '//div[@id=\"comments-button\"]//button')\n",
    "button.click()\n"
   ]
  },
  {
   "cell_type": "code",
   "execution_count": 12,
   "id": "67c213f8",
   "metadata": {},
   "outputs": [],
   "source": [
    "button = driver.find_element(By.XPATH, '//button[contains(@aria-label, \"댓글\")]')\n",
    "button.click()\n"
   ]
  },
  {
   "cell_type": "code",
   "execution_count": 14,
   "id": "c3a12e69",
   "metadata": {},
   "outputs": [],
   "source": [
    "button = driver.find_element(By.CSS_SELECTOR, '#comments-button button')\n",
    "button.click()\n"
   ]
  },
  {
   "cell_type": "code",
   "execution_count": 15,
   "id": "91a8ae59",
   "metadata": {},
   "outputs": [],
   "source": [
    "comment_threads = driver.find_elements(By.TAG_NAME, \"ytd-comment-thread-renderer\")"
   ]
  },
  {
   "cell_type": "code",
   "execution_count": 16,
   "id": "608c3a8b",
   "metadata": {},
   "outputs": [
    {
     "data": {
      "text/plain": [
       "[<selenium.webdriver.remote.webelement.WebElement (session=\"480e26d795c6128f9598e8d393efbcc3\", element=\"f.6CD61E6C1874814CE214929E76C5CA81.d.40D87A94FF194CD3074754BF3FA9C8D3.e.7742\")>,\n",
       " <selenium.webdriver.remote.webelement.WebElement (session=\"480e26d795c6128f9598e8d393efbcc3\", element=\"f.6CD61E6C1874814CE214929E76C5CA81.d.40D87A94FF194CD3074754BF3FA9C8D3.e.7880\")>,\n",
       " <selenium.webdriver.remote.webelement.WebElement (session=\"480e26d795c6128f9598e8d393efbcc3\", element=\"f.6CD61E6C1874814CE214929E76C5CA81.d.40D87A94FF194CD3074754BF3FA9C8D3.e.8168\")>,\n",
       " <selenium.webdriver.remote.webelement.WebElement (session=\"480e26d795c6128f9598e8d393efbcc3\", element=\"f.6CD61E6C1874814CE214929E76C5CA81.d.40D87A94FF194CD3074754BF3FA9C8D3.e.8169\")>,\n",
       " <selenium.webdriver.remote.webelement.WebElement (session=\"480e26d795c6128f9598e8d393efbcc3\", element=\"f.6CD61E6C1874814CE214929E76C5CA81.d.40D87A94FF194CD3074754BF3FA9C8D3.e.8170\")>,\n",
       " <selenium.webdriver.remote.webelement.WebElement (session=\"480e26d795c6128f9598e8d393efbcc3\", element=\"f.6CD61E6C1874814CE214929E76C5CA81.d.40D87A94FF194CD3074754BF3FA9C8D3.e.8171\")>,\n",
       " <selenium.webdriver.remote.webelement.WebElement (session=\"480e26d795c6128f9598e8d393efbcc3\", element=\"f.6CD61E6C1874814CE214929E76C5CA81.d.40D87A94FF194CD3074754BF3FA9C8D3.e.8894\")>,\n",
       " <selenium.webdriver.remote.webelement.WebElement (session=\"480e26d795c6128f9598e8d393efbcc3\", element=\"f.6CD61E6C1874814CE214929E76C5CA81.d.40D87A94FF194CD3074754BF3FA9C8D3.e.8895\")>,\n",
       " <selenium.webdriver.remote.webelement.WebElement (session=\"480e26d795c6128f9598e8d393efbcc3\", element=\"f.6CD61E6C1874814CE214929E76C5CA81.d.40D87A94FF194CD3074754BF3FA9C8D3.e.9253\")>,\n",
       " <selenium.webdriver.remote.webelement.WebElement (session=\"480e26d795c6128f9598e8d393efbcc3\", element=\"f.6CD61E6C1874814CE214929E76C5CA81.d.40D87A94FF194CD3074754BF3FA9C8D3.e.9254\")>,\n",
       " <selenium.webdriver.remote.webelement.WebElement (session=\"480e26d795c6128f9598e8d393efbcc3\", element=\"f.6CD61E6C1874814CE214929E76C5CA81.d.40D87A94FF194CD3074754BF3FA9C8D3.e.9606\")>,\n",
       " <selenium.webdriver.remote.webelement.WebElement (session=\"480e26d795c6128f9598e8d393efbcc3\", element=\"f.6CD61E6C1874814CE214929E76C5CA81.d.40D87A94FF194CD3074754BF3FA9C8D3.e.9607\")>,\n",
       " <selenium.webdriver.remote.webelement.WebElement (session=\"480e26d795c6128f9598e8d393efbcc3\", element=\"f.6CD61E6C1874814CE214929E76C5CA81.d.40D87A94FF194CD3074754BF3FA9C8D3.e.9984\")>,\n",
       " <selenium.webdriver.remote.webelement.WebElement (session=\"480e26d795c6128f9598e8d393efbcc3\", element=\"f.6CD61E6C1874814CE214929E76C5CA81.d.40D87A94FF194CD3074754BF3FA9C8D3.e.9985\")>,\n",
       " <selenium.webdriver.remote.webelement.WebElement (session=\"480e26d795c6128f9598e8d393efbcc3\", element=\"f.6CD61E6C1874814CE214929E76C5CA81.d.40D87A94FF194CD3074754BF3FA9C8D3.e.10262\")>,\n",
       " <selenium.webdriver.remote.webelement.WebElement (session=\"480e26d795c6128f9598e8d393efbcc3\", element=\"f.6CD61E6C1874814CE214929E76C5CA81.d.40D87A94FF194CD3074754BF3FA9C8D3.e.10263\")>,\n",
       " <selenium.webdriver.remote.webelement.WebElement (session=\"480e26d795c6128f9598e8d393efbcc3\", element=\"f.6CD61E6C1874814CE214929E76C5CA81.d.40D87A94FF194CD3074754BF3FA9C8D3.e.10264\")>,\n",
       " <selenium.webdriver.remote.webelement.WebElement (session=\"480e26d795c6128f9598e8d393efbcc3\", element=\"f.6CD61E6C1874814CE214929E76C5CA81.d.40D87A94FF194CD3074754BF3FA9C8D3.e.10707\")>,\n",
       " <selenium.webdriver.remote.webelement.WebElement (session=\"480e26d795c6128f9598e8d393efbcc3\", element=\"f.6CD61E6C1874814CE214929E76C5CA81.d.40D87A94FF194CD3074754BF3FA9C8D3.e.10708\")>,\n",
       " <selenium.webdriver.remote.webelement.WebElement (session=\"480e26d795c6128f9598e8d393efbcc3\", element=\"f.6CD61E6C1874814CE214929E76C5CA81.d.40D87A94FF194CD3074754BF3FA9C8D3.e.11009\")>]"
      ]
     },
     "execution_count": 16,
     "metadata": {},
     "output_type": "execute_result"
    }
   ],
   "source": [
    "comment_threads"
   ]
  },
  {
   "cell_type": "code",
   "execution_count": 19,
   "id": "39ea55fa",
   "metadata": {},
   "outputs": [
    {
     "name": "stdout",
     "output_type": "stream",
     "text": [
      " 직전 영상 '인종별 제스쳐 특징'과 약간 이어집니다! 안보신 분은 관련 영상 눌러서 보세요ㅇ후,,,\n",
      "@김태용-j9x 이 사람 성대모사 진짜 끼깔나네 ㅋㅋㅋ\n",
      "@minmin-zl5yc 이 사람이 제일 웃겨 특히 인도 강돜ㅋㅋㅋㅋㅋㅋㅋ 자주 좀 올려주세요\n",
      "@슈퍼파워-g5h 같이.안사는 우리도 웃긴데...쟤들은 얼마나 웃길까 ㅋㅋㅋ\n",
      "@NotionLab 아니 저 골반무브먼트는 또 왜 똑같은데 ㅋㅋㅋㅋㅋㅋㅋㅋㅋㅋㅋㅋㅋㅋㅋㅋㅋㅋㅋ\n",
      "@greg7987 왜 이름에서 게이랑 야스만 볼드체인 거죠?ㅋㅋㅋㅋㅋ\n",
      "@syooni4465 아 이분 진짜 성대모사나 소리표현이 수준급이예요 옥동자 저리가라 수준\n",
      "그리고 코미디 스타일도 더럽지 않아서 부담없이 보기도 좋고요\n",
      "@motonia7452 ㅋㅋㅋㅋ 올려주셔서 감사합니다 ㅋㅋㅋ\n",
      "@onlyFan_미라LUX_I9금췌널 이분의 성대모사가 정말 대단한 수준이어서 웃음을 차지할 수밖에 없네요 정말 대박이에요 이 정도로 웃길 수 있는 분이 세상에 또 있을까요 그런 생각을 하게 되더라고요 정말 너무 즐거워요!\n",
      "→  \n",
      "→  \n",
      "→  \n",
      "@STRONG버닝_HIGH체널_l9금 이분의 성대모사와 유머는 정말로 독보적이며 매번 새로운 웃음을 선사해주니 꼭 자주 보여주셨으면 좋겠네요\n",
      "@NooNa__FANs_I9_____금_Trailer 이렇게 웃길 수 있는 사람이 세상에 또 있을까 진짜 대박이네\n",
      "@WafufuGrante 제휴사 쿠팡이 \"목화솜\" 디퓨저 파는거 보고 자지러짐 오갓\n",
      "@jonghoonpark7295 지금이 내일이야 ㅋㅋ\n",
      "@손정호-t4d 이양반 인도말투가 개쩜.\n",
      "@booooostaaaaa-h5j 이름 앞뒤로 볼드체인거 킹받네 ㅋㅋㅋㅋㅋㅋㅋㅋㅋㅋ 여긴 자주이러더라\n",
      "@SamuelSmith1221 흉내 너무 잘낸다..\n",
      "@jh-jt3bm ㅋㅋㅋ 잘한다 잘해 찰지다\n",
      "@깨부량 흑인이 주제인 쇼츠에 목화솜 디퓨저는 너무 한거 아니냐ㅋㅋㅋㅋㅋㅋㅋㅋ\n",
      "@soneunho ㅋㅋㅋㅋ 이제 이사람 쇼츠 알고리즘 뜨면 보기도전에\n",
      "\n",
      "좋아요부터 박는다 ㅋㅋㅋ\n",
      "@이우성-i3o 진짜 개 웃김 ㅋㅋㅋㅋ \n"
     ]
    }
   ],
   "source": [
    "for thread in comment_threads:\n",
    "    main_comment = thread.find_element(By.TAG_NAME, \"ytd-comment-view-model\")\n",
    "    author = main_comment.find_element(By.ID, \"author-text\").text\n",
    "    content = main_comment.find_element(By.ID, \"content-text\").text\n",
    "    print(author, content)\n",
    "    try:\n",
    "        replies_container = thread.find_element(By.TAG_NAME, \"ytd-comment-replies-renderer\")\n",
    "        reply_models = replies_container.find_elements(By.TAG_NAME, \"ytd-comment-view-model\")\n",
    "        for reply in reply_models:\n",
    "            reply_author = reply.find_element(By.ID, \"author-text\").text\n",
    "            reply_content = reply.find_element(By.ID, \"content-text\").text\n",
    "            print(\"→\", reply_author, reply_content)\n",
    "    except:\n",
    "        pass\n"
   ]
  },
  {
   "cell_type": "code",
   "execution_count": 31,
   "id": "314448aa",
   "metadata": {},
   "outputs": [
    {
     "name": "stdout",
     "output_type": "stream",
     "text": [
      "@onlyFan_미라LUX_I9금췌널 이분의 성대모사가 정말 대단한 수준이어서 웃음을 차지할 수밖에 없네요 정말 대박이에요 이 정도로 웃길 수 있는 분이 세상에 또 있을까요 그런 생각을 하게 되더라고요 정말 너무 즐거워요!\n"
     ]
    }
   ],
   "source": [
    "thread=comment_threads[8]\n",
    "main_comment = thread.find_element(By.TAG_NAME, \"ytd-comment-view-model\")\n",
    "author = main_comment.find_element(By.ID, \"author-text\").text\n",
    "content = main_comment.find_element(By.ID, \"content-text\").text\n",
    "print(author, content)"
   ]
  },
  {
   "cell_type": "code",
   "execution_count": 32,
   "id": "921e85c7",
   "metadata": {},
   "outputs": [],
   "source": [
    "replies_container = thread.find_element(By.TAG_NAME, \"ytd-comment-replies-renderer\")"
   ]
  },
  {
   "cell_type": "code",
   "execution_count": 33,
   "id": "daa988de",
   "metadata": {},
   "outputs": [],
   "source": [
    "reply_models = replies_container.find_elements(By.TAG_NAME, \"ytd-comment-view-model\")"
   ]
  },
  {
   "cell_type": "code",
   "execution_count": 41,
   "id": "93c93a90",
   "metadata": {},
   "outputs": [
    {
     "data": {
      "text/plain": [
       "[<selenium.webdriver.remote.webelement.WebElement (session=\"480e26d795c6128f9598e8d393efbcc3\", element=\"f.6CD61E6C1874814CE214929E76C5CA81.d.40D87A94FF194CD3074754BF3FA9C8D3.e.11490\")>,\n",
       " <selenium.webdriver.remote.webelement.WebElement (session=\"480e26d795c6128f9598e8d393efbcc3\", element=\"f.6CD61E6C1874814CE214929E76C5CA81.d.40D87A94FF194CD3074754BF3FA9C8D3.e.11491\")>,\n",
       " <selenium.webdriver.remote.webelement.WebElement (session=\"480e26d795c6128f9598e8d393efbcc3\", element=\"f.6CD61E6C1874814CE214929E76C5CA81.d.40D87A94FF194CD3074754BF3FA9C8D3.e.11492\")>]"
      ]
     },
     "execution_count": 41,
     "metadata": {},
     "output_type": "execute_result"
    }
   ],
   "source": [
    "reply_models"
   ]
  },
  {
   "cell_type": "code",
   "execution_count": null,
   "id": "65714f54",
   "metadata": {},
   "outputs": [],
   "source": []
  },
  {
   "cell_type": "code",
   "execution_count": 46,
   "id": "c53b7803",
   "metadata": {},
   "outputs": [],
   "source": [
    "raw=reply_models[0].get_attribute('outerHTML')"
   ]
  },
  {
   "cell_type": "code",
   "execution_count": 47,
   "id": "0748f011",
   "metadata": {},
   "outputs": [],
   "source": [
    "soup = BeautifulSoup(raw, 'html.parser')"
   ]
  },
  {
   "cell_type": "code",
   "execution_count": 49,
   "id": "5390dd04",
   "metadata": {},
   "outputs": [],
   "source": [
    "pretty_html = soup.prettify()"
   ]
  },
  {
   "cell_type": "code",
   "execution_count": 50,
   "id": "ab6d2d91",
   "metadata": {},
   "outputs": [
    {
     "name": "stdout",
     "output_type": "stream",
     "text": [
      "<ytd-comment-view-model class=\"style-scope ytd-comment-replies-renderer\" is-reply=\"\" style=\"--ytd-comment-paid-background-color: initial;\">\n",
      " <!--css-build:shady-->\n",
      " <!--css_build_scope:ytd-comment-view-model-->\n",
      " <!--css_build_styles:video.youtube.src.web.polymer.shared.ui.styles.yt_base_styles.yt.base.styles.css.js-->\n",
      " <div class=\"style-scope ytd-comment-view-model\" id=\"paid-comment-background\">\n",
      " </div>\n",
      " <div class=\"style-scope ytd-comment-view-model\" id=\"linked-comment-badge\">\n",
      " </div>\n",
      " <div class=\"style-scope ytd-comment-view-model\" id=\"body\">\n",
      "  <div class=\"style-scope ytd-comment-view-model\" id=\"author-thumbnail\">\n",
      "   <button aria-label=\"@진짜보소_l9금챼널_view\" class=\"style-scope ytd-comment-view-model\" id=\"author-thumbnail-button\">\n",
      "    <yt-img-shadow class=\"style-scope ytd-comment-view-model no-transition\" fit=\"\" height=\"40\" loaded=\"\" style=\"background-color: transparent;\" width=\"40\">\n",
      "     <!--css-build:shady-->\n",
      "     <!--css_build_scope:yt-img-shadow-->\n",
      "     <!--css_build_styles:video.youtube.src.web.polymer.shared.ui.styles.yt_base_styles.yt.base.styles.css.js,video.youtube.src.web.polymer.shared.ui.yt_img_shadow.yt.img.shadow.css.js-->\n",
      "     <img alt=\"\" class=\"style-scope yt-img-shadow\" draggable=\"false\" height=\"40\" id=\"img\" src=\"https://yt3.ggpht.com/iRd3Y5xi7zJqEaINV3wFEfVgCx28VLsrlw9x9y0HuGD5cYaAoiDP2h_9T3IchCageKoEM32LoQ=s88-c-k-c0x00ffffff-no-rj\" width=\"40\"/>\n",
      "    </yt-img-shadow>\n",
      "   </button>\n",
      "  </div>\n",
      "  <div class=\"style-scope ytd-comment-view-model\" id=\"main\">\n",
      "   <div class=\"style-scope ytd-comment-view-model\" id=\"header\">\n",
      "    <div class=\"style-scope ytd-comment-view-model\" id=\"pinned-comment-badge\">\n",
      "    </div>\n",
      "    <div class=\"style-scope ytd-comment-view-model\" id=\"header-author\">\n",
      "     <h3 class=\"style-scope ytd-comment-view-model\">\n",
      "      <a class=\"yt-simple-endpoint style-scope ytd-comment-view-model\" href=\"/@%EC%A7%84%EC%A7%9C%EB%B3%B4%EC%86%8C_l9%EA%B8%88%EC%B1%BC%EB%84%90_view\" id=\"author-text\">\n",
      "       <span class=\"style-scope ytd-comment-view-model style-scope ytd-comment-view-model\">\n",
      "        @진짜보소_l9금챼널_view\n",
      "       </span>\n",
      "      </a>\n",
      "     </h3>\n",
      "     <span class=\"style-scope ytd-comment-view-model\" id=\"author-comment-badge\">\n",
      "     </span>\n",
      "     <span class=\"style-scope ytd-comment-view-model\" id=\"sponsor-comment-badge\">\n",
      "     </span>\n",
      "     <span class=\"style-scope ytd-comment-view-model\" dir=\"auto\" id=\"published-time-text\">\n",
      "      <a class=\"yt-simple-endpoint style-scope ytd-comment-view-model\" href=\"/watch?v=ksNtRwl2m9s&amp;lc=UgxVzPO4Ppifv4aPH1N4AaABAg.AKB89SPL98-AKBGJ6j-S8L\">\n",
      "       1시간 전\n",
      "      </a>\n",
      "     </span>\n",
      "    </div>\n",
      "   </div>\n",
      "   <ytd-expander class=\"style-scope ytd-comment-view-model\" collapsed=\"\" id=\"expander\" max-number-of-lines=\"4\" should-use-number-of-lines=\"\" style=\"--ytd-expander-max-lines: 4;\">\n",
      "    <!--css-build:shady-->\n",
      "    <!--css_build_scope:ytd-expander-->\n",
      "    <!--css_build_styles:video.youtube.src.web.polymer.shared.ui.styles.yt_base_styles.yt.base.styles.css.js-->\n",
      "    <div class=\"style-scope ytd-expander\" id=\"content\">\n",
      "     <yt-pdg-comment-chip-renderer class=\"style-scope ytd-comment-view-model\" hidden=\"\" id=\"paid-comment-chip\" slot=\"content\">\n",
      "      <!--css-build:shady-->\n",
      "      <!--css_build_scope:yt-pdg-comment-chip-renderer-->\n",
      "      <!--css_build_styles:video.youtube.src.web.polymer.shared.ui.styles.yt_base_styles.yt.base.styles.css.js,video.youtube.src.web.polymer.shared.ui.renderers.pdg.yt_pdg_comment_chip_renderer.yt.pdg.comment.chip.renderer.css.js-->\n",
      "      <div class=\"style-scope yt-pdg-comment-chip-renderer\" id=\"comment-chip-container\">\n",
      "       <yt-icon class=\"style-scope yt-pdg-comment-chip-renderer\">\n",
      "        <!--css-build:shady-->\n",
      "        <!--css_build_scope:yt-icon-->\n",
      "        <!--css_build_styles:video.youtube.src.web.polymer.shared.ui.styles.yt_base_styles.yt.base.styles.css.js,video.youtube.src.web.polymer.shared.core.yt_icon.yt.icon.css.js-->\n",
      "       </yt-icon>\n",
      "       <span class=\"style-scope yt-pdg-comment-chip-renderer\" id=\"comment-chip-price\">\n",
      "       </span>\n",
      "      </div>\n",
      "     </yt-pdg-comment-chip-renderer>\n",
      "     <yt-attributed-string class=\"style-scope ytd-comment-view-model\" id=\"content-text\" slot=\"content\" user-input=\"\">\n",
      "      <span class=\"yt-core-attributed-string yt-core-attributed-string--white-space-pre-wrap\" dir=\"auto\" role=\"text\">\n",
      "       고마워요! 오늘 밤 글렀음 ㅋㅋ 햄덜 눌러버려!!\n",
      "       <span class=\"yt-core-attributed-string--inline-block-mod\" style=\"margin-left: 2px; margin-right: 2px;\">\n",
      "        <img alt=\"💡\" class=\"yt-core-image yt-core-attributed-string__image-element yt-core-attributed-string__image-element--image-alignment-vertical-center yt-core-image--content-mode-scale-to-fill yt-core-image--loaded\" src=\"https://www.youtube.com/s/gaming/emoji/7ff574f2/emoji_u1f4a1.png\" style=\"height: 16px; width: 16px;\"/>\n",
      "       </span>\n",
      "      </span>\n",
      "     </yt-attributed-string>\n",
      "    </div>\n",
      "    <tp-yt-paper-button animated=\"\" aria-disabled=\"false\" aria-expanded=\"true\" class=\"style-scope ytd-expander\" elevation=\"0\" hidden=\"\" id=\"less\" noink=\"\" role=\"button\" style-target=\"host\" tabindex=\"0\">\n",
      "     <!--css-build:shady-->\n",
      "     <!--css_build_scope:tp-yt-paper-button-->\n",
      "     <!--css_build_styles:video.youtube.src.web.polymer.shared.ui.styles.yt_base_styles.yt.base.styles.css.js,third_party.javascript.youtube_components.tp_yt_paper_button.tp.yt.paper.button.css.js-->\n",
      "     <span class=\"less-button style-scope ytd-comment-view-model\" slot=\"less-button\">\n",
      "      간략히\n",
      "     </span>\n",
      "    </tp-yt-paper-button>\n",
      "    <tp-yt-paper-button animated=\"\" aria-disabled=\"false\" aria-expanded=\"false\" class=\"style-scope ytd-expander\" elevation=\"0\" hidden=\"\" id=\"more\" noink=\"\" role=\"button\" style-target=\"host\" tabindex=\"0\">\n",
      "     <!--css-build:shady-->\n",
      "     <!--css_build_scope:tp-yt-paper-button-->\n",
      "     <!--css_build_styles:video.youtube.src.web.polymer.shared.ui.styles.yt_base_styles.yt.base.styles.css.js,third_party.javascript.youtube_components.tp_yt_paper_button.tp.yt.paper.button.css.js-->\n",
      "     <span class=\"more-button style-scope ytd-comment-view-model\" slot=\"more-button\">\n",
      "      자세히 보기\n",
      "     </span>\n",
      "    </tp-yt-paper-button>\n",
      "   </ytd-expander>\n",
      "   <yt-attributed-string class=\"style-scope ytd-comment-view-model\" hidden=\"\" id=\"error-text\">\n",
      "   </yt-attributed-string>\n",
      "   <ytd-tri-state-button-view-model class=\"translate-button style-scope ytd-comment-view-model\" hidden=\"\" state=\"untoggled\">\n",
      "    <!--css-build:shady-->\n",
      "    <!--css_build_scope:ytd-tri-state-button-view-model-->\n",
      "    <!--css_build_styles:video.youtube.src.web.polymer.shared.ui.styles.yt_base_styles.yt.base.styles.css.js-->\n",
      "    <tp-yt-paper-button animated=\"\" aria-disabled=\"false\" class=\"style-scope ytd-tri-state-button-view-model\" elevation=\"0\" noink=\"\" role=\"button\" style-target=\"host\" tabindex=\"0\">\n",
      "     <!--css-build:shady-->\n",
      "     <!--css_build_scope:tp-yt-paper-button-->\n",
      "     <!--css_build_styles:video.youtube.src.web.polymer.shared.ui.styles.yt_base_styles.yt.base.styles.css.js,third_party.javascript.youtube_components.tp_yt_paper_button.tp.yt.paper.button.css.js-->\n",
      "    </tp-yt-paper-button>\n",
      "   </ytd-tri-state-button-view-model>\n",
      "   <ytd-comment-engagement-bar class=\"style-scope ytd-comment-view-model\" id=\"action-buttons\">\n",
      "    <!--css-build:shady-->\n",
      "    <!--css_build_scope:ytd-comment-engagement-bar-->\n",
      "    <!--css_build_styles:video.youtube.src.web.polymer.shared.ui.styles.yt_base_styles.yt.base.styles.css.js-->\n",
      "    <div class=\"style-scope ytd-comment-engagement-bar\" id=\"toolbar\">\n",
      "     <ytd-toggle-button-renderer button-renderer=\"true\" button-tooltip-position=\"bottom\" class=\"style-scope ytd-comment-engagement-bar\" icon-size=\"16\" id=\"like-button\">\n",
      "      <!--css-build:shady-->\n",
      "      <yt-button-shape>\n",
      "       <button aria-disabled=\"false\" aria-label=\"나와 사용자 0명이 이 답글을 좋아함\" aria-pressed=\"false\" class=\"yt-spec-button-shape-next yt-spec-button-shape-next--text yt-spec-button-shape-next--mono yt-spec-button-shape-next--size-s yt-spec-button-shape-next--icon-button yt-spec-button-shape-next--override-small-size-icon yt-spec-button-shape-next--enable-backdrop-filter-experiment\" style=\"\" title=\"\">\n",
      "        <div aria-hidden=\"true\" class=\"yt-spec-button-shape-next__icon\">\n",
      "         <yt-icon style=\"width: 24px; height: 24px;\">\n",
      "          <!--css-build:shady-->\n",
      "          <!--css_build_scope:yt-icon-->\n",
      "          <!--css_build_styles:video.youtube.src.web.polymer.shared.ui.styles.yt_base_styles.yt.base.styles.css.js,video.youtube.src.web.polymer.shared.core.yt_icon.yt.icon.css.js-->\n",
      "          <span class=\"yt-icon-shape style-scope yt-icon yt-spec-icon-shape\">\n",
      "           <div style=\"width: 100%; height: 100%; display: block; fill: currentcolor;\">\n",
      "            <svg aria-hidden=\"true\" enable-background=\"new 0 0 24 24\" focusable=\"false\" height=\"24\" style=\"pointer-events: none; display: inherit; width: 100%; height: 100%;\" viewbox=\"0 0 24 24\" width=\"24\" xmlns=\"http://www.w3.org/2000/svg\">\n",
      "             <path d=\"M18.77 11h-4.23l1.52-4.94C16.38 5.03 15.54 4 14.38 4c-.58 0-1.14.24-1.52.65L7 11H3v10h14.43c1.06 0 1.98-.67 2.19-1.61l1.34-6c.27-1.24-.78-2.39-2.19-2.39zM7 20H4v-8h3v8zm12.98-6.83-1.34 6c-.1.48-.61.83-1.21.83H8v-8.61l5.6-6.06c.19-.21.48-.33.78-.33.26 0 .5.11.63.3.07.1.15.26.09.47l-1.52 4.94-.4 1.29h5.58c.41 0 .8.17 1.03.46.13.15.26.4.19.71z\">\n",
      "             </path>\n",
      "            </svg>\n",
      "           </div>\n",
      "          </span>\n",
      "         </yt-icon>\n",
      "        </div>\n",
      "        <yt-touch-feedback-shape style=\"border-radius: inherit;\">\n",
      "         <div aria-hidden=\"true\" class=\"yt-spec-touch-feedback-shape yt-spec-touch-feedback-shape--touch-response\">\n",
      "          <div class=\"yt-spec-touch-feedback-shape__stroke\">\n",
      "          </div>\n",
      "          <div class=\"yt-spec-touch-feedback-shape__fill\">\n",
      "          </div>\n",
      "         </div>\n",
      "        </yt-touch-feedback-shape>\n",
      "       </button>\n",
      "      </yt-button-shape>\n",
      "      <tp-yt-paper-tooltip aria-label=\"tooltip\" fit-to-visible-bounds=\"\" offset=\"8\" role=\"tooltip\" tabindex=\"-1\">\n",
      "       <!--css-build:shady-->\n",
      "       <!--css_build_scope:tp-yt-paper-tooltip-->\n",
      "       <!--css_build_styles:video.youtube.src.web.polymer.shared.ui.styles.yt_base_styles.yt.base.styles.css.js,third_party.javascript.youtube_components.tp_yt_paper_tooltip.tp.yt.paper.tooltip.css.js-->\n",
      "       <div class=\"hidden style-scope tp-yt-paper-tooltip\" id=\"tooltip\" style-target=\"tooltip\">\n",
      "        좋아요\n",
      "       </div>\n",
      "      </tp-yt-paper-tooltip>\n",
      "     </ytd-toggle-button-renderer>\n",
      "     <span class=\"style-scope ytd-comment-engagement-bar\" hidden=\"\" id=\"vote-count-middle\">\n",
      "     </span>\n",
      "     <ytd-toggle-button-renderer button-renderer=\"true\" button-tooltip-position=\"bottom\" class=\"style-scope ytd-comment-engagement-bar\" icon-size=\"16\" id=\"dislike-button\">\n",
      "      <!--css-build:shady-->\n",
      "      <yt-button-shape>\n",
      "       <button aria-disabled=\"false\" aria-label=\"답글 싫어요 표시\" aria-pressed=\"false\" class=\"yt-spec-button-shape-next yt-spec-button-shape-next--text yt-spec-button-shape-next--mono yt-spec-button-shape-next--size-s yt-spec-button-shape-next--icon-button yt-spec-button-shape-next--override-small-size-icon yt-spec-button-shape-next--enable-backdrop-filter-experiment\" style=\"\" title=\"\">\n",
      "        <div aria-hidden=\"true\" class=\"yt-spec-button-shape-next__icon\">\n",
      "         <yt-icon style=\"width: 24px; height: 24px;\">\n",
      "          <!--css-build:shady-->\n",
      "          <!--css_build_scope:yt-icon-->\n",
      "          <!--css_build_styles:video.youtube.src.web.polymer.shared.ui.styles.yt_base_styles.yt.base.styles.css.js,video.youtube.src.web.polymer.shared.core.yt_icon.yt.icon.css.js-->\n",
      "          <span class=\"yt-icon-shape style-scope yt-icon yt-spec-icon-shape\">\n",
      "           <div style=\"width: 100%; height: 100%; display: block; fill: currentcolor;\">\n",
      "            <svg aria-hidden=\"true\" focusable=\"false\" height=\"24\" style=\"pointer-events: none; display: inherit; width: 100%; height: 100%;\" viewbox=\"0 0 24 24\" width=\"24\" xmlns=\"http://www.w3.org/2000/svg\">\n",
      "             <path d=\"M17 4H6.57c-1.07 0-1.98.67-2.19 1.61l-1.34 6C2.77 12.85 3.82 14 5.23 14h4.23l-1.52 4.94C7.62 19.97 8.46 21 9.62 21c.58 0 1.14-.24 1.52-.65L17 14h4V4h-4zm-6.6 15.67c-.19.21-.48.33-.78.33-.26 0-.5-.11-.63-.3-.07-.1-.15-.26-.09-.47l1.52-4.94.4-1.29H5.23c-.41 0-.8-.17-1.03-.46-.12-.15-.25-.4-.18-.72l1.34-6c.1-.47.61-.82 1.21-.82H16v8.61l-5.6 6.06zM20 13h-3V5h3v8z\">\n",
      "             </path>\n",
      "            </svg>\n",
      "           </div>\n",
      "          </span>\n",
      "         </yt-icon>\n",
      "        </div>\n",
      "        <yt-touch-feedback-shape style=\"border-radius: inherit;\">\n",
      "         <div aria-hidden=\"true\" class=\"yt-spec-touch-feedback-shape yt-spec-touch-feedback-shape--touch-response\">\n",
      "          <div class=\"yt-spec-touch-feedback-shape__stroke\">\n",
      "          </div>\n",
      "          <div class=\"yt-spec-touch-feedback-shape__fill\">\n",
      "          </div>\n",
      "         </div>\n",
      "        </yt-touch-feedback-shape>\n",
      "       </button>\n",
      "      </yt-button-shape>\n",
      "      <tp-yt-paper-tooltip aria-label=\"tooltip\" fit-to-visible-bounds=\"\" offset=\"8\" role=\"tooltip\" tabindex=\"-1\">\n",
      "       <!--css-build:shady-->\n",
      "       <!--css_build_scope:tp-yt-paper-tooltip-->\n",
      "       <!--css_build_styles:video.youtube.src.web.polymer.shared.ui.styles.yt_base_styles.yt.base.styles.css.js,third_party.javascript.youtube_components.tp_yt_paper_tooltip.tp.yt.paper.tooltip.css.js-->\n",
      "       <div class=\"hidden style-scope tp-yt-paper-tooltip\" id=\"tooltip\" style-target=\"tooltip\">\n",
      "        싫어요\n",
      "       </div>\n",
      "      </tp-yt-paper-tooltip>\n",
      "     </ytd-toggle-button-renderer>\n",
      "     <div class=\"style-scope ytd-comment-engagement-bar\" id=\"creator-heart\">\n",
      "     </div>\n",
      "     <ytd-button-renderer button-next=\"\" button-renderer=\"\" class=\"style-scope ytd-comment-engagement-bar\" force-icon-button=\"true\" id=\"reply-button-end\">\n",
      "      <!--css-build:shady-->\n",
      "      <yt-button-shape>\n",
      "       <button aria-label=\"답글\" class=\"yt-spec-button-shape-next yt-spec-button-shape-next--text yt-spec-button-shape-next--mono yt-spec-button-shape-next--size-s yt-spec-button-shape-next--enable-backdrop-filter-experiment\" style=\"\" title=\"\">\n",
      "        <div class=\"yt-spec-button-shape-next__button-text-content\">\n",
      "         <span class=\"yt-core-attributed-string yt-core-attributed-string--white-space-no-wrap\" role=\"text\">\n",
      "          답글\n",
      "         </span>\n",
      "        </div>\n",
      "        <yt-touch-feedback-shape style=\"border-radius: inherit;\">\n",
      "         <div aria-hidden=\"true\" class=\"yt-spec-touch-feedback-shape yt-spec-touch-feedback-shape--touch-response\">\n",
      "          <div class=\"yt-spec-touch-feedback-shape__stroke\">\n",
      "          </div>\n",
      "          <div class=\"yt-spec-touch-feedback-shape__fill\">\n",
      "          </div>\n",
      "         </div>\n",
      "        </yt-touch-feedback-shape>\n",
      "       </button>\n",
      "      </yt-button-shape>\n",
      "      <tp-yt-paper-tooltip disable-upgrade=\"\" offset=\"8\">\n",
      "      </tp-yt-paper-tooltip>\n",
      "     </ytd-button-renderer>\n",
      "    </div>\n",
      "    <div class=\"style-scope ytd-comment-engagement-bar\" id=\"reply-dialog\">\n",
      "    </div>\n",
      "   </ytd-comment-engagement-bar>\n",
      "  </div>\n",
      "  <div class=\"style-scope ytd-comment-view-model\" id=\"action-menu\">\n",
      "   <ytd-menu-renderer class=\"style-scope ytd-comment-view-model\" menu-active=\"\" safe-area=\"\">\n",
      "    <!--css-build:shady-->\n",
      "    <!--css_build_scope:ytd-menu-renderer-->\n",
      "    <!--css_build_styles:video.youtube.src.web.polymer.shared.ui.styles.yt_base_styles.yt.base.styles.css.js-->\n",
      "    <div class=\"top-level-buttons style-scope ytd-menu-renderer\" id=\"top-level-buttons-computed\">\n",
      "    </div>\n",
      "    <div class=\"style-scope ytd-menu-renderer\" id=\"flexible-item-buttons\">\n",
      "    </div>\n",
      "    <yt-icon-button class=\"dropdown-trigger style-scope ytd-menu-renderer\" hidden=\"\" id=\"button\" style-target=\"button\">\n",
      "     <!--css-build:shady-->\n",
      "     <!--css_build_scope:yt-icon-button-->\n",
      "     <!--css_build_styles:video.youtube.src.web.polymer.shared.ui.styles.yt_base_styles.yt.base.styles.css.js,video.youtube.src.web.polymer.shared.ui.yt_icon_button.yt.icon.button.css.js-->\n",
      "     <button class=\"style-scope yt-icon-button\" id=\"button\">\n",
      "      <yt-icon class=\"style-scope ytd-menu-renderer\">\n",
      "       <!--css-build:shady-->\n",
      "       <!--css_build_scope:yt-icon-->\n",
      "       <!--css_build_styles:video.youtube.src.web.polymer.shared.ui.styles.yt_base_styles.yt.base.styles.css.js,video.youtube.src.web.polymer.shared.core.yt_icon.yt.icon.css.js-->\n",
      "       <span class=\"yt-icon-shape style-scope yt-icon yt-spec-icon-shape\">\n",
      "        <div style=\"width: 100%; height: 100%; display: block; fill: currentcolor;\">\n",
      "         <svg aria-hidden=\"true\" enable-background=\"new 0 0 24 24\" focusable=\"false\" height=\"24\" style=\"pointer-events: none; display: inherit; width: 100%; height: 100%;\" viewbox=\"0 0 24 24\" width=\"24\" xmlns=\"http://www.w3.org/2000/svg\">\n",
      "          <path d=\"M12 16.5c.83 0 1.5.67 1.5 1.5s-.67 1.5-1.5 1.5-1.5-.67-1.5-1.5.67-1.5 1.5-1.5zM10.5 12c0 .83.67 1.5 1.5 1.5s1.5-.67 1.5-1.5-.67-1.5-1.5-1.5-1.5.67-1.5 1.5zm0-6c0 .83.67 1.5 1.5 1.5s1.5-.67 1.5-1.5-.67-1.5-1.5-1.5-1.5.67-1.5 1.5z\">\n",
      "          </path>\n",
      "         </svg>\n",
      "        </div>\n",
      "       </span>\n",
      "      </yt-icon>\n",
      "     </button>\n",
      "     <yt-interaction class=\"circular style-scope yt-icon-button\" id=\"interaction\">\n",
      "      <!--css-build:shady-->\n",
      "      <!--css_build_scope:yt-interaction-->\n",
      "      <!--css_build_styles:video.youtube.src.web.polymer.shared.ui.styles.yt_base_styles.yt.base.styles.css.js,video.youtube.src.web.polymer.shared.ui.yt_interaction.yt.interaction.css.js-->\n",
      "      <div class=\"stroke style-scope yt-interaction\">\n",
      "      </div>\n",
      "      <div class=\"fill style-scope yt-interaction\">\n",
      "      </div>\n",
      "     </yt-interaction>\n",
      "    </yt-icon-button>\n",
      "    <yt-button-shape class=\"style-scope ytd-menu-renderer\" disable-upgrade=\"\" hidden=\"\" id=\"button-shape\">\n",
      "    </yt-button-shape>\n",
      "   </ytd-menu-renderer>\n",
      "  </div>\n",
      " </div>\n",
      " <div class=\"style-scope ytd-comment-view-model\" hidden=\"\" id=\"edit-dialog\">\n",
      " </div>\n",
      "</ytd-comment-view-model>\n",
      "\n"
     ]
    }
   ],
   "source": [
    "print(pretty_html)"
   ]
  },
  {
   "cell_type": "code",
   "execution_count": 40,
   "id": "b46ff93c",
   "metadata": {},
   "outputs": [
    {
     "data": {
      "text/plain": [
       "''"
      ]
     },
     "execution_count": 40,
     "metadata": {},
     "output_type": "execute_result"
    }
   ],
   "source": [
    "reply_models[0].find_element(By.ID, \"author-text\").text"
   ]
  },
  {
   "cell_type": "code",
   "execution_count": 34,
   "id": "1421d319",
   "metadata": {},
   "outputs": [
    {
     "name": "stdout",
     "output_type": "stream",
     "text": [
      "→  \n",
      "→  \n",
      "→  \n"
     ]
    }
   ],
   "source": [
    "for reply in reply_models:\n",
    "    reply_author = reply.find_element(By.ID, \"author-text\").text\n",
    "    reply_content = reply.find_element(By.ID, \"content-text\").text\n",
    "    print(\"→\", reply_author, reply_content)"
   ]
  },
  {
   "cell_type": "code",
   "execution_count": 18,
   "id": "5f02def5",
   "metadata": {},
   "outputs": [],
   "source": [
    "try:\n",
    "    replies_container = thread.find_element(By.TAG_NAME, \"ytd-comment-replies-renderer\")\n",
    "    reply_models = replies_container.find_elements(By.TAG_NAME, \"ytd-comment-view-model\")\n",
    "    for reply in reply_models:\n",
    "        reply_author = reply.find_element(By.ID, \"author-text\").text\n",
    "        reply_content = reply.find_element(By.ID, \"content-text\").text\n",
    "        print(\"→\", reply_author, reply_content)\n",
    "except:\n",
    "    pass\n"
   ]
  },
  {
   "cell_type": "code",
   "execution_count": null,
   "id": "d63f292f",
   "metadata": {},
   "outputs": [
    {
     "name": "stdout",
     "output_type": "stream",
     "text": [
      " 직전 영상 '인종별 제스쳐 특징'과 약간 이어집니다! 안보신 분은 관련 영상 눌러서 보세요ㅇ후,,,\n",
      "@김태용-j9x 이 사람 성대모사 진짜 끼깔나네 ㅋㅋㅋ\n",
      "@minmin-zl5yc 이 사람이 제일 웃겨 특히 인도 강돜ㅋㅋㅋㅋㅋㅋㅋ 자주 좀 올려주세요\n",
      "@슈퍼파워-g5h 같이.안사는 우리도 웃긴데...쟤들은 얼마나 웃길까 ㅋㅋㅋ\n",
      "@NotionLab 아니 저 골반무브먼트는 또 왜 똑같은데 ㅋㅋㅋㅋㅋㅋㅋㅋㅋㅋㅋㅋㅋㅋㅋㅋㅋㅋㅋ\n",
      "@greg7987 왜 이름에서 게이랑 야스만 볼드체인 거죠?ㅋㅋㅋㅋㅋ\n",
      "@syooni4465 아 이분 진짜 성대모사나 소리표현이 수준급이예요 옥동자 저리가라 수준\n",
      "그리고 코미디 스타일도 더럽지 않아서 부담없이 보기도 좋고요\n",
      "@motonia7452 ㅋㅋㅋㅋ 올려주셔서 감사합니다 ㅋㅋㅋ\n",
      "@onlyFan_미라LUX_I9금췌널 이분의 성대모사가 정말 대단한 수준이어서 웃음을 차지할 수밖에 없네요 정말 대박이에요 이 정도로 웃길 수 있는 분이 세상에 또 있을까요 그런 생각을 하게 되더라고요 정말 너무 즐거워요!\n",
      "→ @진짜보소_l9금챼널_view 고마워요! 오늘 밤 글렀음 ㅋㅋ 햄덜 눌러버려!! \n",
      "→ @어른품격_I9금채널_spot 와 진짜 대박이네 ㅋㅋ 눌러버려! \n",
      "→ @onlyFan-플렉TOP-l9금체널 구독 박아야지 형님들 바로 눌러 ㄱㄱ \n",
      "@STRONG버닝_HIGH체널_l9금 이분의 성대모사와 유머는 정말로 독보적이며 매번 새로운 웃음을 선사해주니 꼭 자주 보여주셨으면 좋겠네요\n",
      "@NooNa__FANs_I9_____금_Trailer 이렇게 웃길 수 있는 사람이 세상에 또 있을까 진짜 대박이네\n",
      "@WafufuGrante 제휴사 쿠팡이 \"목화솜\" 디퓨저 파는거 보고 자지러짐 오갓\n",
      "@jonghoonpark7295 지금이 내일이야 ㅋㅋ\n",
      "@손정호-t4d 이양반 인도말투가 개쩜.\n",
      "@booooostaaaaa-h5j 이름 앞뒤로 볼드체인거 킹받네 ㅋㅋㅋㅋㅋㅋㅋㅋㅋㅋ 여긴 자주이러더라\n",
      "@SamuelSmith1221 흉내 너무 잘낸다..\n",
      "@jh-jt3bm ㅋㅋㅋ 잘한다 잘해 찰지다\n",
      "@깨부량 흑인이 주제인 쇼츠에 목화솜 디퓨저는 너무 한거 아니냐ㅋㅋㅋㅋㅋㅋㅋㅋ\n",
      "@soneunho ㅋㅋㅋㅋ 이제 이사람 쇼츠 알고리즘 뜨면 보기도전에\n",
      "\n",
      "좋아요부터 박는다 ㅋㅋㅋ\n",
      "@이우성-i3o 진짜 개 웃김 ㅋㅋㅋㅋ \n"
     ]
    }
   ],
   "source": []
  },
  {
   "cell_type": "code",
   "execution_count": null,
   "id": "56a34e1d",
   "metadata": {},
   "outputs": [],
   "source": []
  }
 ],
 "metadata": {
  "kernelspec": {
   "display_name": "base",
   "language": "python",
   "name": "python3"
  },
  "language_info": {
   "codemirror_mode": {
    "name": "ipython",
    "version": 3
   },
   "file_extension": ".py",
   "mimetype": "text/x-python",
   "name": "python",
   "nbconvert_exporter": "python",
   "pygments_lexer": "ipython3",
   "version": "3.12.3"
  }
 },
 "nbformat": 4,
 "nbformat_minor": 5
}
