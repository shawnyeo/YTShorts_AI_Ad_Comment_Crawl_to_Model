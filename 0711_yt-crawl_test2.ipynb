{
 "cells": [
  {
   "cell_type": "code",
   "execution_count": 32,
   "id": "516d27f2",
   "metadata": {},
   "outputs": [],
   "source": [
    "from bs4 import BeautifulSoup"
   ]
  },
  {
   "cell_type": "code",
   "execution_count": 33,
   "id": "079f5974",
   "metadata": {},
   "outputs": [],
   "source": [
    "from selenium import webdriver\n",
    "from selenium.webdriver.common.by import By\n",
    "import time"
   ]
  },
  {
   "cell_type": "code",
   "execution_count": 34,
   "id": "2c825014",
   "metadata": {},
   "outputs": [],
   "source": [
    "# 1️⃣ 크롬 드라이버 실행\n",
    "options = webdriver.ChromeOptions()\n",
    "options.add_argument('--start-maximized')\n",
    "driver = webdriver.Chrome(options=options)"
   ]
  },
  {
   "cell_type": "code",
   "execution_count": 35,
   "id": "4a0f5539",
   "metadata": {},
   "outputs": [],
   "source": [
    "# 2️⃣ 쇼츠 URL 열기\n",
    "url = \"https://www.youtube.com/shorts/PFiyCYfNn80\"\n",
    "driver.get(url)"
   ]
  },
  {
   "cell_type": "code",
   "execution_count": 36,
   "id": "b9257d67",
   "metadata": {},
   "outputs": [],
   "source": [
    "time.sleep(5)  # 페이지 초기 로딩 대기"
   ]
  },
  {
   "cell_type": "code",
   "execution_count": 23,
   "id": "ed210d9c",
   "metadata": {},
   "outputs": [],
   "source": [
    "comments_button_container = driver.find_element(By.ID, \"comments-button\")"
   ]
  },
  {
   "cell_type": "code",
   "execution_count": 24,
   "id": "4852303d",
   "metadata": {},
   "outputs": [],
   "source": [
    "button = comments_button_container.find_element(By.TAG_NAME, \"button\")\n",
    "button.click()"
   ]
  },
  {
   "cell_type": "code",
   "execution_count": 25,
   "id": "a0c58e93",
   "metadata": {},
   "outputs": [],
   "source": [
    "threads = driver.find_elements(By.TAG_NAME, 'ytd-comment-thread-renderer')"
   ]
  },
  {
   "cell_type": "code",
   "execution_count": 26,
   "id": "e3fc7b01",
   "metadata": {},
   "outputs": [],
   "source": [
    "seen_comments = set()"
   ]
  },
  {
   "cell_type": "code",
   "execution_count": 27,
   "id": "4a78de44",
   "metadata": {},
   "outputs": [],
   "source": [
    "# new_found = 0\n",
    "    \n",
    "# for thread in threads:\n",
    "#     try:\n",
    "#         author = thread.find_element(By.ID, 'author-text').text\n",
    "#         content = thread.find_element(By.ID, 'content-text').text\n",
    "#         unique_key = (author, content)\n",
    "\n",
    "#         if unique_key not in seen_comments:\n",
    "#             seen_comments.add(unique_key)\n",
    "#             print(f\"Author: {author}\")\n",
    "#             print(f\"Content: {content}\")\n",
    "#             new_found += 1\n",
    "\n",
    "#     except Exception as e:\n",
    "#         print(\"Error:\", e)"
   ]
  },
  {
   "cell_type": "code",
   "execution_count": 28,
   "id": "f59d9eef",
   "metadata": {},
   "outputs": [],
   "source": [
    "scroll_candidates = [\n",
    "    \"#contents\",\n",
    "    \"ytd-item-section-renderer\",\n",
    "    \"ytd-comments\",\n",
    "    \"ytd-section-list-renderer\",\n",
    "    \"ytd-engagement-panel-section-list-renderer\"\n",
    "]\n"
   ]
  },
  {
   "cell_type": "code",
   "execution_count": 29,
   "id": "805aae61",
   "metadata": {},
   "outputs": [
    {
     "name": "stdout",
     "output_type": "stream",
     "text": [
      "#contents: overflow-y = visible\n",
      "Scrolled #contents\n",
      "ytd-item-section-renderer: overflow-y = visible\n",
      "Scrolled ytd-item-section-renderer\n",
      "ytd-comments: overflow-y = visible\n",
      "Scrolled ytd-comments\n",
      "ytd-section-list-renderer: overflow-y = hidden\n",
      "Scrolled ytd-section-list-renderer\n",
      "ytd-engagement-panel-section-list-renderer: overflow-y = hidden\n",
      "Scrolled ytd-engagement-panel-section-list-renderer\n"
     ]
    }
   ],
   "source": [
    "for sel in scroll_candidates:\n",
    "    try:\n",
    "        el = driver.find_element(By.CSS_SELECTOR, sel)\n",
    "        # overflow-y 속성 확인\n",
    "        overflow = driver.execute_script(\n",
    "            \"return window.getComputedStyle(arguments[0]).overflowY;\", el\n",
    "        )\n",
    "        print(f\"{sel}: overflow-y = {overflow}\")\n",
    "\n",
    "        # 스크롤 시도\n",
    "        driver.execute_script(\n",
    "            \"arguments[0].scrollTop += 500;\", el\n",
    "        )\n",
    "        print(f\"Scrolled {sel}\")\n",
    "\n",
    "        time.sleep(2)\n",
    "    except Exception as e:\n",
    "        print(f\"Failed for {sel}: {e}\")\n"
   ]
  },
  {
   "cell_type": "code",
   "execution_count": 37,
   "id": "d0def511",
   "metadata": {},
   "outputs": [
    {
     "name": "stdout",
     "output_type": "stream",
     "text": [
      "✅ 댓글 버튼 클릭 완료\n",
      "✅ 스크롤 대상 찾음\n",
      "👉 스크롤 1회\n",
      "📏 이전 높이: 3236 -> 현재 높이: 5772\n",
      "👉 스크롤 2회\n",
      "📏 이전 높이: 5772 -> 현재 높이: 8232\n",
      "👉 스크롤 3회\n",
      "📏 이전 높이: 8232 -> 현재 높이: 10688\n",
      "👉 스크롤 4회\n"
     ]
    },
    {
     "ename": "KeyboardInterrupt",
     "evalue": "",
     "output_type": "error",
     "traceback": [
      "\u001b[1;31m---------------------------------------------------------------------------\u001b[0m",
      "\u001b[1;31mKeyboardInterrupt\u001b[0m                         Traceback (most recent call last)",
      "Cell \u001b[1;32mIn[37], line 39\u001b[0m\n\u001b[0;32m     34\u001b[0m \u001b[38;5;28mprint\u001b[39m(\u001b[38;5;124mf\u001b[39m\u001b[38;5;124m\"\u001b[39m\u001b[38;5;124m👉 스크롤 \u001b[39m\u001b[38;5;132;01m{\u001b[39;00mi\u001b[38;5;241m+\u001b[39m\u001b[38;5;241m1\u001b[39m\u001b[38;5;132;01m}\u001b[39;00m\u001b[38;5;124m회\u001b[39m\u001b[38;5;124m\"\u001b[39m)\n\u001b[0;32m     35\u001b[0m driver\u001b[38;5;241m.\u001b[39mexecute_script(\n\u001b[0;32m     36\u001b[0m     \u001b[38;5;124m\"\u001b[39m\u001b[38;5;124marguments[0].scrollTop = arguments[0].scrollHeight;\u001b[39m\u001b[38;5;124m\"\u001b[39m, \n\u001b[0;32m     37\u001b[0m     scroll_container\n\u001b[0;32m     38\u001b[0m )\n\u001b[1;32m---> 39\u001b[0m time\u001b[38;5;241m.\u001b[39msleep(\u001b[38;5;241m2\u001b[39m)\n\u001b[0;32m     41\u001b[0m new_height \u001b[38;5;241m=\u001b[39m driver\u001b[38;5;241m.\u001b[39mexecute_script(\u001b[38;5;124m\"\u001b[39m\u001b[38;5;124mreturn arguments[0].scrollHeight;\u001b[39m\u001b[38;5;124m\"\u001b[39m, scroll_container)\n\u001b[0;32m     42\u001b[0m \u001b[38;5;28mprint\u001b[39m(\u001b[38;5;124mf\u001b[39m\u001b[38;5;124m\"\u001b[39m\u001b[38;5;124m📏 이전 높이: \u001b[39m\u001b[38;5;132;01m{\u001b[39;00mlast_height\u001b[38;5;132;01m}\u001b[39;00m\u001b[38;5;124m -> 현재 높이: \u001b[39m\u001b[38;5;132;01m{\u001b[39;00mnew_height\u001b[38;5;132;01m}\u001b[39;00m\u001b[38;5;124m\"\u001b[39m)\n",
      "\u001b[1;31mKeyboardInterrupt\u001b[0m: "
     ]
    }
   ],
   "source": [
    "import time\n",
    "from selenium.webdriver.common.by import By\n",
    "\n",
    "# 1️⃣ 댓글 버튼 열기\n",
    "try:\n",
    "    comment_button = driver.find_element(By.CSS_SELECTOR, \"#comments-button\")\n",
    "    comment_button.click()\n",
    "    print(\"✅ 댓글 버튼 클릭 완료\")\n",
    "    time.sleep(3)\n",
    "except Exception as e:\n",
    "    print(\"❌ 댓글 버튼 못 찾음:\", e)\n",
    "\n",
    "\n",
    "# 2️⃣ 댓글창 스크롤 컨테이너 찾기\n",
    "# 가장 많이 성공 사례에서 쓰던 패턴\n",
    "try:\n",
    "    scroll_container = driver.find_element(\n",
    "        By.CSS_SELECTOR,\n",
    "        \"ytd-item-section-renderer #contents\"\n",
    "    )\n",
    "    print(\"✅ 스크롤 대상 찾음\")\n",
    "except Exception as e:\n",
    "    print(\"❌ 스크롤 대상 못 찾음:\", e)\n",
    "    scroll_container = None\n",
    "\n",
    "time.sleep(2)\n",
    "\n",
    "\n",
    "# 3️⃣ 스크롤 루프\n",
    "if scroll_container:\n",
    "    last_height = driver.execute_script(\"return arguments[0].scrollHeight;\", scroll_container)\n",
    "\n",
    "    for i in range(20):\n",
    "        print(f\"👉 스크롤 {i+1}회\")\n",
    "        driver.execute_script(\n",
    "            \"arguments[0].scrollTop = arguments[0].scrollHeight;\", \n",
    "            scroll_container\n",
    "        )\n",
    "        time.sleep(2)\n",
    "\n",
    "        new_height = driver.execute_script(\"return arguments[0].scrollHeight;\", scroll_container)\n",
    "        print(f\"📏 이전 높이: {last_height} -> 현재 높이: {new_height}\")\n",
    "\n",
    "        if new_height == last_height:\n",
    "            print(\"✅ 더 이상 로딩할 댓글 없음. 스크롤 종료.\")\n",
    "            break\n",
    "\n",
    "        last_height = new_height\n",
    "\n",
    "    print(\"✅ 스크롤 루프 종료\")\n",
    "else:\n",
    "    print(\"❌ 스크롤 컨테이너가 없어서 스크롤 못 돌림\")\n"
   ]
  },
  {
   "cell_type": "code",
   "execution_count": null,
   "id": "96bfa236",
   "metadata": {},
   "outputs": [],
   "source": []
  }
 ],
 "metadata": {
  "kernelspec": {
   "display_name": "base",
   "language": "python",
   "name": "python3"
  },
  "language_info": {
   "codemirror_mode": {
    "name": "ipython",
    "version": 3
   },
   "file_extension": ".py",
   "mimetype": "text/x-python",
   "name": "python",
   "nbconvert_exporter": "python",
   "pygments_lexer": "ipython3",
   "version": "3.12.3"
  }
 },
 "nbformat": 4,
 "nbformat_minor": 5
}
